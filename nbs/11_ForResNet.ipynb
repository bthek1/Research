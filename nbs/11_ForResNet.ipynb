{
 "cells": [
  {
   "cell_type": "markdown",
   "id": "d7f71c4b-6a0d-4d41-a756-888f05d6e06e",
   "metadata": {},
   "source": [
    "# Idea - ForResNet (coming soon)\n",
    "\n",
    "> ForResNet\n",
    "\n",
    "- skip_showdoc: true\n",
    "- skip_exec: true"
   ]
  },
  {
   "cell_type": "code",
   "execution_count": null,
   "id": "aec13838-ddb7-4450-a175-bce643748498",
   "metadata": {},
   "outputs": [],
   "source": []
  }
 ],
 "metadata": {
  "kernelspec": {
   "display_name": "python3",
   "language": "python",
   "name": "python3"
  },
  "widgets": {
   "application/vnd.jupyter.widget-state+json": {
    "state": {},
    "version_major": 2,
    "version_minor": 0
   }
  }
 },
 "nbformat": 4,
 "nbformat_minor": 5
}
