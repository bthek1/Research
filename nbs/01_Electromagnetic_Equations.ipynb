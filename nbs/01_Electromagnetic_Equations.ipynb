{
 "cells": [
  {
   "cell_type": "markdown",
   "id": "424e4ba6-be6a-4452-b966-9485c19fdca6",
   "metadata": {},
   "source": [
    "# Electromagnetic Equations\n",
    "\n",
    "> Electromagnetic Equations\n",
    "\n",
    "- skip_showdoc: true\n",
    "- skip_exec: true\n"
   ]
  },
  {
   "cell_type": "code",
   "execution_count": null,
   "id": "7f9e1e1d-7636-4e99-b8a4-20459f2910de",
   "metadata": {},
   "outputs": [],
   "source": []
  }
 ],
 "metadata": {
  "kernelspec": {
   "display_name": "python3",
   "language": "python",
   "name": "python3"
  },
  "widgets": {
   "application/vnd.jupyter.widget-state+json": {
    "state": {},
    "version_major": 2,
    "version_minor": 0
   }
  }
 },
 "nbformat": 4,
 "nbformat_minor": 5
}
