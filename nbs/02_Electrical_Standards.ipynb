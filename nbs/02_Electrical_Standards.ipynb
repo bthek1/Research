{
 "cells": [
  {
   "cell_type": "markdown",
   "id": "0dc0976c-f852-4e7e-8859-4d593ea102d5",
   "metadata": {},
   "source": [
    "# Electrical Standards \n",
    "\n",
    "> Eletricial Standards\n",
    "\n",
    "- skip_showdoc: true\n",
    "- skip_exec: true"
   ]
  },
  {
   "cell_type": "code",
   "execution_count": null,
   "id": "baf5f921-c4e1-4a2d-8ebf-1cab9cfdf347",
   "metadata": {},
   "outputs": [],
   "source": []
  }
 ],
 "metadata": {
  "kernelspec": {
   "display_name": "python3",
   "language": "python",
   "name": "python3"
  },
  "widgets": {
   "application/vnd.jupyter.widget-state+json": {
    "state": {},
    "version_major": 2,
    "version_minor": 0
   }
  }
 },
 "nbformat": 4,
 "nbformat_minor": 5
}
